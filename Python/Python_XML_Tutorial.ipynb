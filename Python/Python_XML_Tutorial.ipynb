{
 "cells": [
  {
   "cell_type": "markdown",
   "metadata": {},
   "source": [
    "# Python XML Examples\n",
    "```xml\n",
    "<annotation>\n",
    "\t<folder>VOC2007</folder>\n",
    "\t<filename>000001.jpg</filename>\n",
    "\t<source>\n",
    "\t\t<database>The VOC2007 Database</database>\n",
    "\t\t<annotation>PASCAL VOC2007</annotation>\n",
    "\t\t<image>flickr</image>\n",
    "\t\t<flickrid>341012865</flickrid>\n",
    "\t</source>\n",
    "\t<owner>\n",
    "\t\t<flickrid>Fried Camels</flickrid>\n",
    "\t\t<name>Jinky the Fruit Bat</name>\n",
    "\t</owner>\n",
    "\t<size>\n",
    "\t\t<width>353</width>\n",
    "\t\t<height>500</height>\n",
    "\t\t<depth>3</depth>\n",
    "\t</size>\n",
    "\t<segmented>0</segmented>\n",
    "\t<object>\n",
    "\t\t<name>dog</name>\n",
    "\t\t<pose>Left</pose>\n",
    "\t\t<truncated>1</truncated>\n",
    "\t\t<difficult>0</difficult>\n",
    "\t\t<bndbox>\n",
    "\t\t\t<xmin>48</xmin>\n",
    "\t\t\t<ymin>240</ymin>\n",
    "\t\t\t<xmax>195</xmax>\n",
    "\t\t\t<ymax>371</ymax>\n",
    "\t\t</bndbox>\n",
    "\t</object>\n",
    "\t<object>\n",
    "\t\t<name>person</name>\n",
    "\t\t<pose>Left</pose>\n",
    "\t\t<truncated>1</truncated>\n",
    "\t\t<difficult>0</difficult>\n",
    "\t\t<bndbox>\n",
    "\t\t\t<xmin>8</xmin>\n",
    "\t\t\t<ymin>12</ymin>\n",
    "\t\t\t<xmax>352</xmax>\n",
    "\t\t\t<ymax>498</ymax>\n",
    "\t\t</bndbox>\n",
    "\t</object>\n",
    "</annotation>\n",
    "```"
   ]
  },
  {
   "cell_type": "code",
   "execution_count": 1,
   "metadata": {
    "collapsed": true
   },
   "outputs": [],
   "source": [
    "from xml.etree import ElementTree as et\n",
    "xmlFile = 'C:/MyWork/VOC/Test/VOC2007/Annotations/000001.xml'\n",
    "tree = et.parse(xmlFile)"
   ]
  },
  {
   "cell_type": "code",
   "execution_count": 4,
   "metadata": {
    "collapsed": false
   },
   "outputs": [
    {
     "name": "stdout",
     "output_type": "stream",
     "text": [
      "annotation {}\n",
      "name {}\n",
      "pose {}\n",
      "truncated {}\n",
      "difficult {}\n",
      "bndbox {}\n",
      "name {}\n",
      "pose {}\n",
      "truncated {}\n",
      "difficult {}\n",
      "bndbox {}\n"
     ]
    }
   ],
   "source": [
    "from __future__ import print_function\n",
    "root = tree.getroot()\n",
    "print(root.tag, root.attrib)\n",
    "for o in tree.findall('object'): # findall returns a generator\n",
    "                                 # or tree.iter(tag='object')\n",
    "                                 # or tree.iterfind('annotation/object')\n",
    "    #print(o.tag, o.attrib)\n",
    "    for c in o: # go over its direct children\n",
    "        print(c.tag, c.attrib)"
   ]
  },
  {
   "cell_type": "code",
   "execution_count": 47,
   "metadata": {
    "collapsed": false
   },
   "outputs": [
    {
     "name": "stdout",
     "output_type": "stream",
     "text": [
      "000001.jpg\n",
      "   48   240  195  371  dog\n",
      "   8    12   352  498  person\n"
     ]
    }
   ],
   "source": [
    "for fnm in tree.findall('filename'):\n",
    "    print(fnm.text)\n",
    "for o in tree.findall('object'):\n",
    "    st = 0\n",
    "    for e in o:\n",
    "        if e.tag == 'name':\n",
    "            detObjLabel = e.text; st += 1\n",
    "        elif e.tag == 'bndbox':\n",
    "            for c in e:\n",
    "                if c.tag == 'xmin':\n",
    "                    xmin = c.text;        st += 1\n",
    "                elif c.tag == 'xmax':\n",
    "                    xmax = c.text;        st += 1\n",
    "                elif c.tag == 'ymin':\n",
    "                    ymin = c.text;        st += 1\n",
    "                elif c.tag == 'ymax':\n",
    "                    ymax = c.text;        st += 1  \n",
    "    if st >= 5:\n",
    "        print('   {:4s} {:4s} {:4s} {:4s} {}'.format(xmin, ymin, xmax, ymax, detObjLabel) )"
   ]
  }
 ],
 "metadata": {
  "kernelspec": {
   "display_name": "Python [default]",
   "language": "python",
   "name": "python2"
  },
  "language_info": {
   "codemirror_mode": {
    "name": "ipython",
    "version": 2
   },
   "file_extension": ".py",
   "mimetype": "text/x-python",
   "name": "python",
   "nbconvert_exporter": "python",
   "pygments_lexer": "ipython2",
   "version": "2.7.13"
  }
 },
 "nbformat": 4,
 "nbformat_minor": 2
}
